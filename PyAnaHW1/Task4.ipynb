{
 "cells": [
  {
   "attachments": {},
   "cell_type": "markdown",
   "metadata": {},
   "source": [
    "## Задание 4\n",
    "\n",
    "Даны два списка.\n",
    "\n",
    "Дата покупки:"
   ]
  },
  {
   "cell_type": "code",
   "execution_count": 1,
   "metadata": {},
   "outputs": [],
   "source": [
    "purchase_date = ['2021-09-14', '2021-12-15', '2021-09-08', '2021-12-05', '2021-10-09', '2021-09-30', \\\n",
    "                 '2021-12-22', '2021-11-29', '2021-12-24', '2021-11-26', '2021-10-27', '2021-12-18', \\\n",
    "                    '2021-11-09', '2021-11-23', '2021-09-27', '2021-10-02', '2021-12-27', '2021-09-20', \\\n",
    "                        '2021-12-13', '2021-11-01', '2021-11-09', '2021-12-06', '2021-12-08', '2021-10-09', \\\n",
    "                            '2021-10-31', '2021-09-30', '2021-11-09', '2021-12-13', '2021-10-26', '2021-12-09']"
   ]
  },
  {
   "attachments": {},
   "cell_type": "markdown",
   "metadata": {},
   "source": [
    "Суммы покупок по датам:"
   ]
  },
  {
   "cell_type": "code",
   "execution_count": 2,
   "metadata": {},
   "outputs": [],
   "source": [
    "purchase_amount = [1270, 8413, 9028, 3703, 5739, 4095, 295, 4944, 5723, 3701, 4471, 651, 7037, 4274, 6275, 4988, \\\n",
    "                   6930, 2971, 6592, 2004, 2822, 519, 3406, 2732, 5015, 2008, 316, 6333, 5700, 2887]"
   ]
  },
  {
   "attachments": {},
   "cell_type": "markdown",
   "metadata": {},
   "source": [
    "### Задача 1\n",
    "\n",
    "Найдите, какая выручка у компании в ноябре.\n",
    "Используйте list comprehensions.\n",
    "\n",
    "### Задача 2\n",
    "\n",
    "Найдите выручку компании в зависимости от месяца.\n",
    "Для этого напишите функцию, которая на вход принимает список с датами и список с выручкой, а на выходе словарь, где ключи - это месяцы, а значения - это выручка.\n",
    "Используйте аннотирование типов."
   ]
  },
  {
   "attachments": {},
   "cell_type": "markdown",
   "metadata": {},
   "source": [
    "#### Решение Задачи 1"
   ]
  },
  {
   "cell_type": "code",
   "execution_count": 3,
   "metadata": {},
   "outputs": [],
   "source": [
    "def monthAmount(monthNum: int, dateList: list, amountList: list):\n",
    "    return sum(amountList[i] for i in range(len(dateList)) if f'-{monthNum}-' in dateList[i])"
   ]
  },
  {
   "cell_type": "code",
   "execution_count": 4,
   "metadata": {},
   "outputs": [
    {
     "name": "stdout",
     "output_type": "stream",
     "text": [
      "Выручка компании в ноябре равна: 25098\n"
     ]
    }
   ],
   "source": [
    "print(f'Выручка компании в ноябре равна: {monthAmount(11, purchase_date, purchase_amount)}')"
   ]
  },
  {
   "attachments": {},
   "cell_type": "markdown",
   "metadata": {},
   "source": [
    "#### Решение Задачи 2"
   ]
  },
  {
   "cell_type": "code",
   "execution_count": 5,
   "metadata": {},
   "outputs": [],
   "source": [
    "def monthlyRevenue(dateList: list, amountList: list):\n",
    "    a_dict = {'01':0, '02':0, '03':0, '04':0, '05':0, '06':0, '07':0, '08':0, '09':0, '10':0, '11':0, '12':0}\n",
    "    a_dict_keys = list(a_dict.keys())\n",
    "\n",
    "    for i in range(len(dateList)):\n",
    "        for j in range(len(a_dict_keys)):\n",
    "            if f'-{a_dict_keys[j]}-' in dateList[i]:\n",
    "                a_dict[a_dict_keys[j]] = a_dict[a_dict_keys[j]] + amountList[i]\n",
    "    \n",
    "    return a_dict"
   ]
  },
  {
   "cell_type": "code",
   "execution_count": 6,
   "metadata": {},
   "outputs": [
    {
     "name": "stdout",
     "output_type": "stream",
     "text": [
      "{'01': 0, '02': 0, '03': 0, '04': 0, '05': 0, '06': 0, '07': 0, '08': 0, '09': 25647, '10': 28645, '11': 25098, '12': 45452}\n"
     ]
    }
   ],
   "source": [
    "print(monthlyRevenue(purchase_date, purchase_amount))"
   ]
  },
  {
   "attachments": {},
   "cell_type": "markdown",
   "metadata": {},
   "source": [
    "Дополнительно: вывод словаря только с теми месяцами, по которым выручка ненулевая."
   ]
  },
  {
   "cell_type": "code",
   "execution_count": 7,
   "metadata": {},
   "outputs": [
    {
     "name": "stdout",
     "output_type": "stream",
     "text": [
      "{'09': 25647, '10': 28645, '11': 25098, '12': 45452}\n"
     ]
    }
   ],
   "source": [
    "answer = monthlyRevenue(purchase_date, purchase_amount)\n",
    "a_dict_keys = list(answer.keys())\n",
    "\n",
    "for i in range(len(a_dict_keys)):\n",
    "    if answer[a_dict_keys[i]] == 0:\n",
    "        del answer[a_dict_keys[i]]\n",
    "\n",
    "print(answer)"
   ]
  }
 ],
 "metadata": {
  "kernelspec": {
   "display_name": "Python 3",
   "language": "python",
   "name": "python3"
  },
  "language_info": {
   "codemirror_mode": {
    "name": "ipython",
    "version": 3
   },
   "file_extension": ".py",
   "mimetype": "text/x-python",
   "name": "python",
   "nbconvert_exporter": "python",
   "pygments_lexer": "ipython3",
   "version": "3.11.2"
  },
  "orig_nbformat": 4
 },
 "nbformat": 4,
 "nbformat_minor": 2
}
