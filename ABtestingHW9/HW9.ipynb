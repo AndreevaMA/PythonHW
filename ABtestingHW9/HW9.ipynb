{
 "cells": [
  {
   "cell_type": "code",
   "execution_count": 1,
   "metadata": {},
   "outputs": [],
   "source": [
    "import scipy\n",
    "import numpy as np\n",
    "import pandas as pd\n",
    "\n",
    "import statsmodels.api as sm\n",
    "from matplotlib import pyplot as plt\n",
    "\n",
    "import warnings\n",
    "warnings.filterwarnings('ignore')\n",
    "warnings.warn('DelftStack')\n",
    "warnings.warn('Do not show this message')"
   ]
  },
  {
   "attachments": {},
   "cell_type": "markdown",
   "metadata": {},
   "source": [
    "#### Задание:\n",
    "Проанализировать результаты эксперимента и написать рекомендации менеджеру.\n",
    "\n",
    "##### Условие задачи:\n",
    "\n",
    "* Продукт: игра для смартфона\n",
    "* Текущая (контрольная) версия: в игре задан чек-пойн на 30 уровне.\n",
    "* Тестовая версия: чек-пойнт перемещён на 40 уровень (игра усложняется)\n",
    "* Метрики для анализа: ретеншн на след. день и через 7 дней после установки приложения."
   ]
  },
  {
   "cell_type": "code",
   "execution_count": 2,
   "metadata": {},
   "outputs": [
    {
     "data": {
      "text/html": [
       "<div>\n",
       "<style scoped>\n",
       "    .dataframe tbody tr th:only-of-type {\n",
       "        vertical-align: middle;\n",
       "    }\n",
       "\n",
       "    .dataframe tbody tr th {\n",
       "        vertical-align: top;\n",
       "    }\n",
       "\n",
       "    .dataframe thead th {\n",
       "        text-align: right;\n",
       "    }\n",
       "</style>\n",
       "<table border=\"1\" class=\"dataframe\">\n",
       "  <thead>\n",
       "    <tr style=\"text-align: right;\">\n",
       "      <th></th>\n",
       "      <th>userid</th>\n",
       "      <th>version</th>\n",
       "      <th>sum_gamerounds</th>\n",
       "      <th>retention_1</th>\n",
       "      <th>retention_7</th>\n",
       "    </tr>\n",
       "  </thead>\n",
       "  <tbody>\n",
       "    <tr>\n",
       "      <th>0</th>\n",
       "      <td>116</td>\n",
       "      <td>gate_30</td>\n",
       "      <td>3</td>\n",
       "      <td>0</td>\n",
       "      <td>0</td>\n",
       "    </tr>\n",
       "    <tr>\n",
       "      <th>1</th>\n",
       "      <td>337</td>\n",
       "      <td>gate_30</td>\n",
       "      <td>38</td>\n",
       "      <td>1</td>\n",
       "      <td>0</td>\n",
       "    </tr>\n",
       "    <tr>\n",
       "      <th>2</th>\n",
       "      <td>377</td>\n",
       "      <td>gate_40</td>\n",
       "      <td>165</td>\n",
       "      <td>1</td>\n",
       "      <td>0</td>\n",
       "    </tr>\n",
       "    <tr>\n",
       "      <th>3</th>\n",
       "      <td>483</td>\n",
       "      <td>gate_40</td>\n",
       "      <td>1</td>\n",
       "      <td>0</td>\n",
       "      <td>0</td>\n",
       "    </tr>\n",
       "    <tr>\n",
       "      <th>4</th>\n",
       "      <td>488</td>\n",
       "      <td>gate_40</td>\n",
       "      <td>179</td>\n",
       "      <td>1</td>\n",
       "      <td>1</td>\n",
       "    </tr>\n",
       "  </tbody>\n",
       "</table>\n",
       "</div>"
      ],
      "text/plain": [
       "   userid  version  sum_gamerounds  retention_1  retention_7\n",
       "0     116  gate_30               3            0            0\n",
       "1     337  gate_30              38            1            0\n",
       "2     377  gate_40             165            1            0\n",
       "3     483  gate_40               1            0            0\n",
       "4     488  gate_40             179            1            1"
      ]
     },
     "execution_count": 2,
     "metadata": {},
     "output_type": "execute_result"
    }
   ],
   "source": [
    "df = pd.read_csv('HW9_Task.csv')\n",
    "df.head()"
   ]
  },
  {
   "attachments": {},
   "cell_type": "markdown",
   "metadata": {},
   "source": [
    "##### Датасет:\n",
    "\n",
    "* userid - уникальный номер игрока\n",
    "* version - тестовая (gate_40) или контрольная (gate_30) версия\n",
    "* sum_gamerounds - количество сыгранных игроком раундов в первые 14 дней после установки игры\n",
    "* retention_1 - возвращение к игре на след. день после установки\n",
    "* retention_7 - возвращение к игре через 7 дней после установки"
   ]
  },
  {
   "cell_type": "code",
   "execution_count": 3,
   "metadata": {},
   "outputs": [
    {
     "data": {
      "text/html": [
       "<div>\n",
       "<style scoped>\n",
       "    .dataframe tbody tr th:only-of-type {\n",
       "        vertical-align: middle;\n",
       "    }\n",
       "\n",
       "    .dataframe tbody tr th {\n",
       "        vertical-align: top;\n",
       "    }\n",
       "\n",
       "    .dataframe thead th {\n",
       "        text-align: right;\n",
       "    }\n",
       "</style>\n",
       "<table border=\"1\" class=\"dataframe\">\n",
       "  <thead>\n",
       "    <tr style=\"text-align: right;\">\n",
       "      <th></th>\n",
       "      <th>userid</th>\n",
       "      <th>sum_gamerounds</th>\n",
       "      <th>retention_1</th>\n",
       "      <th>retention_7</th>\n",
       "    </tr>\n",
       "  </thead>\n",
       "  <tbody>\n",
       "    <tr>\n",
       "      <th>count</th>\n",
       "      <td>9.018900e+04</td>\n",
       "      <td>90189.000000</td>\n",
       "      <td>90189.000000</td>\n",
       "      <td>90189.000000</td>\n",
       "    </tr>\n",
       "    <tr>\n",
       "      <th>mean</th>\n",
       "      <td>4.998412e+06</td>\n",
       "      <td>51.872457</td>\n",
       "      <td>0.445210</td>\n",
       "      <td>0.186065</td>\n",
       "    </tr>\n",
       "    <tr>\n",
       "      <th>std</th>\n",
       "      <td>2.883286e+06</td>\n",
       "      <td>195.050858</td>\n",
       "      <td>0.496992</td>\n",
       "      <td>0.389161</td>\n",
       "    </tr>\n",
       "    <tr>\n",
       "      <th>min</th>\n",
       "      <td>1.160000e+02</td>\n",
       "      <td>0.000000</td>\n",
       "      <td>0.000000</td>\n",
       "      <td>0.000000</td>\n",
       "    </tr>\n",
       "    <tr>\n",
       "      <th>25%</th>\n",
       "      <td>2.512230e+06</td>\n",
       "      <td>5.000000</td>\n",
       "      <td>0.000000</td>\n",
       "      <td>0.000000</td>\n",
       "    </tr>\n",
       "    <tr>\n",
       "      <th>50%</th>\n",
       "      <td>4.995815e+06</td>\n",
       "      <td>16.000000</td>\n",
       "      <td>0.000000</td>\n",
       "      <td>0.000000</td>\n",
       "    </tr>\n",
       "    <tr>\n",
       "      <th>75%</th>\n",
       "      <td>7.496452e+06</td>\n",
       "      <td>51.000000</td>\n",
       "      <td>1.000000</td>\n",
       "      <td>0.000000</td>\n",
       "    </tr>\n",
       "    <tr>\n",
       "      <th>max</th>\n",
       "      <td>9.999861e+06</td>\n",
       "      <td>49854.000000</td>\n",
       "      <td>1.000000</td>\n",
       "      <td>1.000000</td>\n",
       "    </tr>\n",
       "  </tbody>\n",
       "</table>\n",
       "</div>"
      ],
      "text/plain": [
       "             userid  sum_gamerounds   retention_1   retention_7\n",
       "count  9.018900e+04    90189.000000  90189.000000  90189.000000\n",
       "mean   4.998412e+06       51.872457      0.445210      0.186065\n",
       "std    2.883286e+06      195.050858      0.496992      0.389161\n",
       "min    1.160000e+02        0.000000      0.000000      0.000000\n",
       "25%    2.512230e+06        5.000000      0.000000      0.000000\n",
       "50%    4.995815e+06       16.000000      0.000000      0.000000\n",
       "75%    7.496452e+06       51.000000      1.000000      0.000000\n",
       "max    9.999861e+06    49854.000000      1.000000      1.000000"
      ]
     },
     "execution_count": 3,
     "metadata": {},
     "output_type": "execute_result"
    }
   ],
   "source": [
    "df.describe()"
   ]
  },
  {
   "attachments": {},
   "cell_type": "markdown",
   "metadata": {},
   "source": [
    "Есть данные по 90189 игрокам.\n",
    "В среднем за две недели каждый игрок сыграл около 52х раундов игры.\n",
    "\n",
    "Также в среднем 44.5% игроков продолжили играть на следующий день после установки приложения (retention_1), а 18.6% играли как минимум в течение 7 дней после установки (retention_7)."
   ]
  },
  {
   "cell_type": "code",
   "execution_count": 4,
   "metadata": {},
   "outputs": [
    {
     "name": "stdout",
     "output_type": "stream",
     "text": [
      "<class 'pandas.core.frame.DataFrame'>\n",
      "RangeIndex: 90189 entries, 0 to 90188\n",
      "Data columns (total 5 columns):\n",
      " #   Column          Non-Null Count  Dtype \n",
      "---  ------          --------------  ----- \n",
      " 0   userid          90189 non-null  int64 \n",
      " 1   version         90189 non-null  object\n",
      " 2   sum_gamerounds  90189 non-null  int64 \n",
      " 3   retention_1     90189 non-null  int64 \n",
      " 4   retention_7     90189 non-null  int64 \n",
      "dtypes: int64(4), object(1)\n",
      "memory usage: 3.4+ MB\n"
     ]
    }
   ],
   "source": [
    "df.info()"
   ]
  },
  {
   "attachments": {},
   "cell_type": "markdown",
   "metadata": {},
   "source": [
    "Пропусков в данных нет, типы данных корректные."
   ]
  },
  {
   "cell_type": "code",
   "execution_count": 5,
   "metadata": {},
   "outputs": [
    {
     "data": {
      "text/plain": [
       "116        1\n",
       "488        1\n",
       "540        1\n",
       "1066       1\n",
       "1444       1\n",
       "          ..\n",
       "9994217    1\n",
       "9997049    1\n",
       "9996999    1\n",
       "9974108    1\n",
       "9999861    1\n",
       "Name: userid, Length: 90189, dtype: int64"
      ]
     },
     "execution_count": 5,
     "metadata": {},
     "output_type": "execute_result"
    }
   ],
   "source": [
    "df.userid.value_counts().sort_values()"
   ]
  },
  {
   "attachments": {},
   "cell_type": "markdown",
   "metadata": {},
   "source": [
    "Дубли по уникальному ID игрока отсутствуют."
   ]
  },
  {
   "cell_type": "code",
   "execution_count": 6,
   "metadata": {},
   "outputs": [
    {
     "data": {
      "text/plain": [
       "gate_40    45489\n",
       "gate_30    44700\n",
       "Name: version, dtype: int64"
      ]
     },
     "execution_count": 6,
     "metadata": {},
     "output_type": "execute_result"
    }
   ],
   "source": [
    "df.version.value_counts()"
   ]
  },
  {
   "attachments": {},
   "cell_type": "markdown",
   "metadata": {},
   "source": [
    "Распределение по количеству наблюдений между тестовой и контрольной группой примерно одинаковое."
   ]
  },
  {
   "attachments": {},
   "cell_type": "markdown",
   "metadata": {},
   "source": [
    "Далее для анализа будем использовать z-критерий долей, так как наша задача - это посмотреть на долю игроков, которые продолжают играть в течение определённого промежутка времени."
   ]
  },
  {
   "attachments": {},
   "cell_type": "markdown",
   "metadata": {},
   "source": [
    "За нулевую гипотезу каждый раз принимаем отсутствие различий между тестовой и контрольной группой по проверяемой метрике."
   ]
  },
  {
   "attachments": {},
   "cell_type": "markdown",
   "metadata": {},
   "source": [
    "#### Retention 1 дня"
   ]
  },
  {
   "cell_type": "code",
   "execution_count": 7,
   "metadata": {},
   "outputs": [
    {
     "name": "stdout",
     "output_type": "stream",
     "text": [
      "Число наблюдений в двух выборках: 45489, 44700.\n",
      "Число возвратов к игре в двух выборках: 20119, 20034.\n"
     ]
    }
   ],
   "source": [
    "n1, n2 = df.version.value_counts()\n",
    "print(f'Число наблюдений в двух выборках: {n1}, {n2}.')\n",
    "\n",
    "ret1_1, ret1_2 = df.query('retention_1 == 1').version.value_counts()\n",
    "print(f'Число возвратов к игре в двух выборках: {ret1_1}, {ret1_2}.')"
   ]
  },
  {
   "cell_type": "code",
   "execution_count": 8,
   "metadata": {},
   "outputs": [
    {
     "data": {
      "image/png": "[encoded data removed]",
      "text/plain": [
       "<Figure size 700x300 with 1 Axes>"
      ]
     },
     "metadata": {},
     "output_type": "display_data"
    }
   ],
   "source": [
    "retention1_table = pd.Series([ret1_1 / n1, ret1_2 / n2], index = ['test', 'control'])\n",
    "\n",
    "fig, ax = plt.subplots(figsize = (7, 3))\n",
    "\n",
    "ax.barh(retention1_table.index, retention1_table, color = ['tab:red', 'tab:blue'])\n",
    "\n",
    "for i in ax.patches:\n",
    "    plt.text(i.get_width() + 0.05, i.get_y() + 0.35,\n",
    "             f'{round(round((i.get_width()), 4) * 100, 2)}%',\n",
    "             fontsize = 10, fontweight = 'bold',\n",
    "             color ='grey')\n",
    "\n",
    "ax.set_title('Доля играющих на следующий день после установки', loc ='left')\n",
    "\n",
    "plt.show()"
   ]
  },
  {
   "cell_type": "code",
   "execution_count": 9,
   "metadata": {},
   "outputs": [
    {
     "data": {
      "text/plain": [
       "(-1.7840862247974725, 0.07440965529691913)"
      ]
     },
     "execution_count": 9,
     "metadata": {},
     "output_type": "execute_result"
    }
   ],
   "source": [
    "from statsmodels.stats import proportion\n",
    "proportion.proportions_ztest(np.array([ret1_1, ret1_2]), np.array([n1, n2]))"
   ]
  },
  {
   "attachments": {},
   "cell_type": "markdown",
   "metadata": {},
   "source": [
    "p-value = 7.4%, что больше alpha (5%), а значит, не отвергаем нулевую гипотезу: стат. значимых различий нет."
   ]
  },
  {
   "attachments": {},
   "cell_type": "markdown",
   "metadata": {},
   "source": [
    "#### Retention 7 дня"
   ]
  },
  {
   "cell_type": "code",
   "execution_count": 10,
   "metadata": {},
   "outputs": [
    {
     "name": "stdout",
     "output_type": "stream",
     "text": [
      "Число наблюдений в двух выборках: 45489, 44700.\n",
      "Число возвратов к игре в двух выборках: 8502, 8279.\n"
     ]
    }
   ],
   "source": [
    "n1, n2 = df.version.value_counts()\n",
    "print(f'Число наблюдений в двух выборках: {n1}, {n2}.')\n",
    "\n",
    "ret7_1, ret7_2 = df.query('retention_7 == 1').version.value_counts()\n",
    "print(f'Число возвратов к игре в двух выборках: {ret7_1}, {ret7_2}.')"
   ]
  },
  {
   "cell_type": "code",
   "execution_count": 11,
   "metadata": {},
   "outputs": [
    {
     "data": {
      "image/png": "[encoded data removed]",
      "text/plain": [
       "<Figure size 700x300 with 1 Axes>"
      ]
     },
     "metadata": {},
     "output_type": "display_data"
    }
   ],
   "source": [
    "retention7_table = pd.Series([ret7_1 / n1, ret7_2 / n2], index = ['test', 'control'])\n",
    "\n",
    "fig, ax = plt.subplots(figsize = (7, 3))\n",
    "\n",
    "ax.barh(retention7_table.index, retention7_table, color = ['tab:red', 'tab:blue'])\n",
    "\n",
    "for i in ax.patches:\n",
    "    plt.text(i.get_width() + 0.02, i.get_y() + 0.35,\n",
    "             f'{round(round((i.get_width()), 4) * 100, 2)}%',\n",
    "             fontsize = 10, fontweight = 'bold',\n",
    "             color ='grey')\n",
    "\n",
    "ax.set_title('Доля играющих через неделю после установки', loc ='left')\n",
    "\n",
    "plt.show()"
   ]
  },
  {
   "cell_type": "code",
   "execution_count": 12,
   "metadata": {},
   "outputs": [
    {
     "data": {
      "text/plain": [
       "(0.6519862722187609, 0.5144100282874542)"
      ]
     },
     "execution_count": 12,
     "metadata": {},
     "output_type": "execute_result"
    }
   ],
   "source": [
    "proportion.proportions_ztest(np.array([ret7_1, ret7_2]), np.array([n1, n2]))"
   ]
  },
  {
   "attachments": {},
   "cell_type": "markdown",
   "metadata": {},
   "source": [
    "p-value = 51.4%, что больше alpha (5%), а значит, не отвергаем нулевую гипотезу: стат. значимых различий нет."
   ]
  },
  {
   "attachments": {},
   "cell_type": "markdown",
   "metadata": {},
   "source": [
    "Прежде чем сделать окончательный вывод о том, что статистически значимых различий не найдено, проверим мощность теста."
   ]
  },
  {
   "attachments": {},
   "cell_type": "markdown",
   "metadata": {},
   "source": [
    "##### Retention 1"
   ]
  },
  {
   "cell_type": "code",
   "execution_count": 13,
   "metadata": {},
   "outputs": [
    {
     "name": "stdout",
     "output_type": "stream",
     "text": [
      "retention_1: 44.23%, 44.82%; effect_size = -0.011881898259223478\n"
     ]
    }
   ],
   "source": [
    "import math\n",
    "\n",
    "p_1 = ret1_1 / n1\n",
    "p_2 = ret1_2 / n2\n",
    "\n",
    "h = 2 * math.asin(np.sqrt(p_1)) - 2 * math.asin(np.sqrt(p_2))\n",
    "print(f'retention_1: {round(p_1 * 100, 2)}%, {round(p_2 * 100, 2)}%; effect_size = {h}')"
   ]
  },
  {
   "cell_type": "code",
   "execution_count": 14,
   "metadata": {},
   "outputs": [
    {
     "name": "stdout",
     "output_type": "stream",
     "text": [
      "мощность критерия = 43.34%\n"
     ]
    }
   ],
   "source": [
    "import statsmodels.stats.power as smp\n",
    "\n",
    "alpha = 0.05\n",
    "\n",
    "power1 = smp.zt_ind_solve_power(effect_size = h, nobs1 = n1, alpha = alpha, alternative = 'two-sided')\n",
    "print(f'мощность критерия = {round(power1 * 100, 2)}%')"
   ]
  },
  {
   "attachments": {},
   "cell_type": "markdown",
   "metadata": {},
   "source": [
    "Видим, что мощность критерия слишком низкая, чтобы быть на 100% уверенным в результатах теста относительно метрики retention_1."
   ]
  },
  {
   "attachments": {},
   "cell_type": "markdown",
   "metadata": {},
   "source": [
    "##### Retention 7"
   ]
  },
  {
   "cell_type": "code",
   "execution_count": 15,
   "metadata": {},
   "outputs": [
    {
     "name": "stdout",
     "output_type": "stream",
     "text": [
      "retention_1: 18.69%, 18.52%; effect_size = 0.004342261187737395\n"
     ]
    }
   ],
   "source": [
    "p_1 = ret7_1 / n1\n",
    "p_2 = ret7_2 / n2\n",
    "\n",
    "h = 2 * math.asin(np.sqrt(p_1)) - 2 * math.asin(np.sqrt(p_2))\n",
    "print(f'retention_1: {round(p_1 * 100, 2)}%, {round(p_2 * 100, 2)}%; effect_size = {h}')"
   ]
  },
  {
   "attachments": {},
   "cell_type": "markdown",
   "metadata": {},
   "source": [
    "Чем меньше effect_size, тем больше должна быть выборка. То есть здесь опять мощность теста будет недостаточной."
   ]
  },
  {
   "cell_type": "code",
   "execution_count": 16,
   "metadata": {},
   "outputs": [
    {
     "name": "stdout",
     "output_type": "stream",
     "text": [
      "мощность критерия = 10.04%\n"
     ]
    }
   ],
   "source": [
    "alpha = 0.05\n",
    "\n",
    "power7 = smp.zt_ind_solve_power(effect_size = h, nobs1 = n1, alpha = alpha, alternative = 'two-sided')\n",
    "print(f'мощность критерия = {round(power7 * 100, 2)}%')"
   ]
  },
  {
   "attachments": {},
   "cell_type": "markdown",
   "metadata": {},
   "source": [
    "Действительно, мощность упала ещё ниже."
   ]
  },
  {
   "attachments": {},
   "cell_type": "markdown",
   "metadata": {},
   "source": [
    "Получается, что для обеих метрик имеем недостаточно данных, крайне вероятна ошибка false negative."
   ]
  },
  {
   "attachments": {},
   "cell_type": "markdown",
   "metadata": {},
   "source": [
    "##### Расчёт необходимого количества наблюдений"
   ]
  },
  {
   "cell_type": "code",
   "execution_count": 17,
   "metadata": {},
   "outputs": [
    {
     "name": "stdout",
     "output_type": "stream",
     "text": [
      "Необходимое количество наблюдений для двух метрик: 832539.0.\n"
     ]
    }
   ],
   "source": [
    "power = 0.8\n",
    "\n",
    "# посчитаем только для меньшего effect_size, тк для него нужна большая длительность теста\n",
    "num7 = smp.zt_ind_solve_power(effect_size = h, alpha = alpha, power = power, alternative = 'two-sided')\n",
    "\n",
    "print(f'Необходимое количество наблюдений для двух метрик: {round(num7, 0)}.')"
   ]
  },
  {
   "attachments": {},
   "cell_type": "markdown",
   "metadata": {},
   "source": [
    "#### **Вывод и рекомендации для менеджера:**\n",
    "\n",
    "По результатам проверки итогов эксперимента статистически значимых различий не выявлено.\n",
    "Однако проверка мощности теста показала высокую вероятность ошибки false negative,\n",
    "поэтому рекомендация - не вносить изменения в приложение, а перезапустить тест и набрать необходимый объём выборки (около 833 тыс. наблюдений)."
   ]
  }
 ],
 "metadata": {
  "kernelspec": {
   "display_name": "Python 3",
   "language": "python",
   "name": "python3"
  },
  "language_info": {
   "codemirror_mode": {
    "name": "ipython",
    "version": 3
   },
   "file_extension": ".py",
   "mimetype": "text/x-python",
   "name": "python",
   "nbconvert_exporter": "python",
   "pygments_lexer": "ipython3",
   "version": "3.11.2"
  },
  "orig_nbformat": 4
 },
 "nbformat": 4,
 "nbformat_minor": 2
}
